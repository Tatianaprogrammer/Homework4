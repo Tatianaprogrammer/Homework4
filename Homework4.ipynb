{
 "cells": [
  {
   "cell_type": "code",
   "execution_count": 1,
   "id": "91327801",
   "metadata": {},
   "outputs": [
    {
     "name": "stdout",
     "output_type": "stream",
     "text": [
      "Bugatti  - в среднем стоят дороже(1757223)\n",
      "Toyota  - больше всего машин этой марки стоят от 2 до 3 тысяч(47)\n"
     ]
    }
   ],
   "source": [
    "import numpy as np\n",
    "import pandas as pd\n",
    "data = pd.read_csv('https://raw.githubusercontent.com/nicepeopleproject/ml_linear_regression/master/data/data.csv')\n",
    "\n",
    "make_and_value = dict()\n",
    "makeCarsfr2kto3k = dict()\n",
    "\n",
    "for element in data.Make.unique():\n",
    "    t = [element,[]]\n",
    "    make_and_value.update([t])\n",
    "    t = [element,0]\n",
    "    makeCarsfr2kto3k.update([t])\n",
    "    t.clear()\n",
    "\n",
    "\n",
    "\n",
    "allPrices = list(data.MSRP)\n",
    "CarMakers = list(data.Make)\n",
    "\n",
    "for i in range(len(CarMakers)):\n",
    "    make_and_value[CarMakers[i]].append(allPrices[i])\n",
    "    if allPrices[i] > 2000 and allPrices[i] < 3000:\n",
    "        makeCarsfr2kto3k[CarMakers[i]] += 1\n",
    "maxPrice = 0\n",
    "expensiveMaker = ''\n",
    "maxAmountofCars = 0\n",
    "cheapestMaker = ''\n",
    "for key in list(make_and_value.keys()):\n",
    "    if (sum(make_and_value[key])/len(make_and_value[key])) > maxPrice:\n",
    "        maxPrice = sum(make_and_value[key])/len(make_and_value[key])\n",
    "        expensiveMaker = key\n",
    "    if makeCarsfr2kto3k[key] > maxAmountofCars:\n",
    "        maxAmountofCars = makeCarsfr2kto3k[key]\n",
    "        cheapestMaker = key\n",
    "print(expensiveMaker, ' - в среднем стоят дороже(' + str(int(maxPrice)) + ')')\n",
    "print(cheapestMaker, ' - больше всего машин этой марки стоят от 2 до 3 тысяч(' + str(maxAmountofCars) + ')')"
   ]
  }
 ],
 "metadata": {
  "kernelspec": {
   "display_name": "Python 3 (ipykernel)",
   "language": "python",
   "name": "python3"
  },
  "language_info": {
   "codemirror_mode": {
    "name": "ipython",
    "version": 3
   },
   "file_extension": ".py",
   "mimetype": "text/x-python",
   "name": "python",
   "nbconvert_exporter": "python",
   "pygments_lexer": "ipython3",
   "version": "3.9.7"
  }
 },
 "nbformat": 4,
 "nbformat_minor": 5
}
